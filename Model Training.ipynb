{
 "cells": [
  {
   "cell_type": "code",
   "execution_count": null,
   "id": "ab54fb19-a61a-4b0f-9a4f-1a40936da838",
   "metadata": {},
   "outputs": [],
   "source": [
    "import pandas as pd"
   ]
  },
  {
   "cell_type": "code",
   "execution_count": null,
   "id": "b895d8f9-6827-443d-b2c8-a93dea64d240",
   "metadata": {},
   "outputs": [],
   "source": [
    "df = pd.read_csv(\"spotify_millsongdata.csv\")"
   ]
  },
  {
   "cell_type": "code",
   "execution_count": null,
   "id": "c24c89d6-0990-4d9c-aacb-fbd3f6b7c7cb",
   "metadata": {},
   "outputs": [
    {
     "data": {
      "text/html": [
       "<div>\n",
       "<style scoped>\n",
       "    .dataframe tbody tr th:only-of-type {\n",
       "        vertical-align: middle;\n",
       "    }\n",
       "\n",
       "    .dataframe tbody tr th {\n",
       "        vertical-align: top;\n",
       "    }\n",
       "\n",
       "    .dataframe thead th {\n",
       "        text-align: right;\n",
       "    }\n",
       "</style>\n",
       "<table border=\"1\" class=\"dataframe\">\n",
       "  <thead>\n",
       "    <tr style=\"text-align: right;\">\n",
       "      <th></th>\n",
       "      <th>artist</th>\n",
       "      <th>song</th>\n",
       "      <th>link</th>\n",
       "      <th>text</th>\n",
       "    </tr>\n",
       "  </thead>\n",
       "  <tbody>\n",
       "    <tr>\n",
       "      <th>0</th>\n",
       "      <td>ABBA</td>\n",
       "      <td>Ahe's My Kind Of Girl</td>\n",
       "      <td>/a/abba/ahes+my+kind+of+girl_20598417.html</td>\n",
       "      <td>Look at her face, it's a wonderful face  \\r\\nA...</td>\n",
       "    </tr>\n",
       "    <tr>\n",
       "      <th>1</th>\n",
       "      <td>ABBA</td>\n",
       "      <td>Andante, Andante</td>\n",
       "      <td>/a/abba/andante+andante_20002708.html</td>\n",
       "      <td>Take it easy with me, please  \\r\\nTouch me gen...</td>\n",
       "    </tr>\n",
       "    <tr>\n",
       "      <th>2</th>\n",
       "      <td>ABBA</td>\n",
       "      <td>As Good As New</td>\n",
       "      <td>/a/abba/as+good+as+new_20003033.html</td>\n",
       "      <td>I'll never know why I had to go  \\r\\nWhy I had...</td>\n",
       "    </tr>\n",
       "    <tr>\n",
       "      <th>3</th>\n",
       "      <td>ABBA</td>\n",
       "      <td>Bang</td>\n",
       "      <td>/a/abba/bang_20598415.html</td>\n",
       "      <td>Making somebody happy is a question of give an...</td>\n",
       "    </tr>\n",
       "    <tr>\n",
       "      <th>4</th>\n",
       "      <td>ABBA</td>\n",
       "      <td>Bang-A-Boomerang</td>\n",
       "      <td>/a/abba/bang+a+boomerang_20002668.html</td>\n",
       "      <td>Making somebody happy is a question of give an...</td>\n",
       "    </tr>\n",
       "  </tbody>\n",
       "</table>\n",
       "</div>"
      ],
      "text/plain": [
       "  artist                   song                                        link  \\\n",
       "0   ABBA  Ahe's My Kind Of Girl  /a/abba/ahes+my+kind+of+girl_20598417.html   \n",
       "1   ABBA       Andante, Andante       /a/abba/andante+andante_20002708.html   \n",
       "2   ABBA         As Good As New        /a/abba/as+good+as+new_20003033.html   \n",
       "3   ABBA                   Bang                  /a/abba/bang_20598415.html   \n",
       "4   ABBA       Bang-A-Boomerang      /a/abba/bang+a+boomerang_20002668.html   \n",
       "\n",
       "                                                text  \n",
       "0  Look at her face, it's a wonderful face  \\r\\nA...  \n",
       "1  Take it easy with me, please  \\r\\nTouch me gen...  \n",
       "2  I'll never know why I had to go  \\r\\nWhy I had...  \n",
       "3  Making somebody happy is a question of give an...  \n",
       "4  Making somebody happy is a question of give an...  "
      ]
     },
     "execution_count": 292,
     "metadata": {},
     "output_type": "execute_result"
    }
   ],
   "source": [
    "df.head(5)"
   ]
  },
  {
   "cell_type": "raw",
   "id": "c1a28879-d849-40d4-8835-d30e71fcea74",
   "metadata": {},
   "source": [
    "df.shape"
   ]
  },
  {
   "cell_type": "code",
   "execution_count": null,
   "id": "511dd7bd-3f4e-4225-9b0e-f35c94f38d87",
   "metadata": {},
   "outputs": [
    {
     "data": {
      "text/plain": [
       "artist    0\n",
       "song      0\n",
       "link      0\n",
       "text      0\n",
       "dtype: int64"
      ]
     },
     "execution_count": 294,
     "metadata": {},
     "output_type": "execute_result"
    }
   ],
   "source": [
    "df.isnull().sum()"
   ]
  },
  {
   "cell_type": "code",
   "execution_count": null,
   "id": "2d6b483b-0f96-4ff5-800a-c5975acd3757",
   "metadata": {},
   "outputs": [],
   "source": [
    "df = df.sample(5000).drop('link', axis=1).reset_index(drop=True)"
   ]
  },
  {
   "cell_type": "code",
   "execution_count": null,
   "id": "5f70fbeb-885d-4528-b56b-9749bd99fc52",
   "metadata": {},
   "outputs": [
    {
     "data": {
      "text/html": [
       "<div>\n",
       "<style scoped>\n",
       "    .dataframe tbody tr th:only-of-type {\n",
       "        vertical-align: middle;\n",
       "    }\n",
       "\n",
       "    .dataframe tbody tr th {\n",
       "        vertical-align: top;\n",
       "    }\n",
       "\n",
       "    .dataframe thead th {\n",
       "        text-align: right;\n",
       "    }\n",
       "</style>\n",
       "<table border=\"1\" class=\"dataframe\">\n",
       "  <thead>\n",
       "    <tr style=\"text-align: right;\">\n",
       "      <th></th>\n",
       "      <th>artist</th>\n",
       "      <th>song</th>\n",
       "      <th>text</th>\n",
       "    </tr>\n",
       "  </thead>\n",
       "  <tbody>\n",
       "    <tr>\n",
       "      <th>0</th>\n",
       "      <td>Cher</td>\n",
       "      <td>I Hate To Sleep Alone</td>\n",
       "      <td>You were the only thing I had  \\r\\nHow could a...</td>\n",
       "    </tr>\n",
       "    <tr>\n",
       "      <th>1</th>\n",
       "      <td>Black Sabbath</td>\n",
       "      <td>Iron Man</td>\n",
       "      <td>I am iron man  \\r\\nHas he lost his mind?  \\r\\n...</td>\n",
       "    </tr>\n",
       "    <tr>\n",
       "      <th>2</th>\n",
       "      <td>Waterboys</td>\n",
       "      <td>When Will We Be Married</td>\n",
       "      <td>When will we be married Molly  \\r\\nWhen will w...</td>\n",
       "    </tr>\n",
       "    <tr>\n",
       "      <th>3</th>\n",
       "      <td>Dave Matthews Band</td>\n",
       "      <td>If I Had A Boat</td>\n",
       "      <td>If I had a boat  \\r\\nI'd go out on the ocean  ...</td>\n",
       "    </tr>\n",
       "    <tr>\n",
       "      <th>4</th>\n",
       "      <td>Deep Purple</td>\n",
       "      <td>Money Talks</td>\n",
       "      <td>I was young and healthy  \\r\\nExtremely wealthy...</td>\n",
       "    </tr>\n",
       "    <tr>\n",
       "      <th>5</th>\n",
       "      <td>David Allan Coe</td>\n",
       "      <td>Honey Don't</td>\n",
       "      <td>By David Allan Coe  \\r\\nI'VE DONE SOME RAMBLIN...</td>\n",
       "    </tr>\n",
       "    <tr>\n",
       "      <th>6</th>\n",
       "      <td>Widespread Panic</td>\n",
       "      <td>Send Your Mind</td>\n",
       "      <td>While you're out there on the highway  \\r\\nWhi...</td>\n",
       "    </tr>\n",
       "    <tr>\n",
       "      <th>7</th>\n",
       "      <td>Manowar</td>\n",
       "      <td>Brothers Of Metal</td>\n",
       "      <td>Strike while the iron is hot  \\r\\nSteel is str...</td>\n",
       "    </tr>\n",
       "    <tr>\n",
       "      <th>8</th>\n",
       "      <td>Otis Redding</td>\n",
       "      <td>You Don't Miss Your Water</td>\n",
       "      <td>In the beginning  \\r\\nYou really loved me, oh ...</td>\n",
       "    </tr>\n",
       "    <tr>\n",
       "      <th>9</th>\n",
       "      <td>Judy Garland</td>\n",
       "      <td>If Love Were All</td>\n",
       "      <td>I believe in doing what I can  \\r\\nIn crying w...</td>\n",
       "    </tr>\n",
       "  </tbody>\n",
       "</table>\n",
       "</div>"
      ],
      "text/plain": [
       "               artist                       song  \\\n",
       "0                Cher      I Hate To Sleep Alone   \n",
       "1       Black Sabbath                   Iron Man   \n",
       "2           Waterboys    When Will We Be Married   \n",
       "3  Dave Matthews Band            If I Had A Boat   \n",
       "4         Deep Purple                Money Talks   \n",
       "5     David Allan Coe                Honey Don't   \n",
       "6    Widespread Panic             Send Your Mind   \n",
       "7             Manowar          Brothers Of Metal   \n",
       "8        Otis Redding  You Don't Miss Your Water   \n",
       "9        Judy Garland           If Love Were All   \n",
       "\n",
       "                                                text  \n",
       "0  You were the only thing I had  \\r\\nHow could a...  \n",
       "1  I am iron man  \\r\\nHas he lost his mind?  \\r\\n...  \n",
       "2  When will we be married Molly  \\r\\nWhen will w...  \n",
       "3  If I had a boat  \\r\\nI'd go out on the ocean  ...  \n",
       "4  I was young and healthy  \\r\\nExtremely wealthy...  \n",
       "5  By David Allan Coe  \\r\\nI'VE DONE SOME RAMBLIN...  \n",
       "6  While you're out there on the highway  \\r\\nWhi...  \n",
       "7  Strike while the iron is hot  \\r\\nSteel is str...  \n",
       "8  In the beginning  \\r\\nYou really loved me, oh ...  \n",
       "9  I believe in doing what I can  \\r\\nIn crying w...  "
      ]
     },
     "execution_count": 298,
     "metadata": {},
     "output_type": "execute_result"
    }
   ],
   "source": [
    "df.head(10)"
   ]
  },
  {
   "cell_type": "code",
   "execution_count": null,
   "id": "ee7073da-c87d-4dd9-a372-d1b1a3bdbbd2",
   "metadata": {},
   "outputs": [
    {
     "data": {
      "text/html": [
       "<div>\n",
       "<style scoped>\n",
       "    .dataframe tbody tr th:only-of-type {\n",
       "        vertical-align: middle;\n",
       "    }\n",
       "\n",
       "    .dataframe tbody tr th {\n",
       "        vertical-align: top;\n",
       "    }\n",
       "\n",
       "    .dataframe thead th {\n",
       "        text-align: right;\n",
       "    }\n",
       "</style>\n",
       "<table border=\"1\" class=\"dataframe\">\n",
       "  <thead>\n",
       "    <tr style=\"text-align: right;\">\n",
       "      <th></th>\n",
       "      <th>artist</th>\n",
       "      <th>song</th>\n",
       "      <th>text</th>\n",
       "    </tr>\n",
       "  </thead>\n",
       "  <tbody>\n",
       "    <tr>\n",
       "      <th>4995</th>\n",
       "      <td>The Killers</td>\n",
       "      <td>Why Do I Keep Counting?</td>\n",
       "      <td>There's a plane, and I am flying  \\r\\nThere's ...</td>\n",
       "    </tr>\n",
       "    <tr>\n",
       "      <th>4996</th>\n",
       "      <td>Taylor Swift</td>\n",
       "      <td>Love Story</td>\n",
       "      <td>We were both young when I first saw you  \\r\\nI...</td>\n",
       "    </tr>\n",
       "    <tr>\n",
       "      <th>4997</th>\n",
       "      <td>Europe</td>\n",
       "      <td>America</td>\n",
       "      <td>You'd think by now I've learned to fake it  \\r...</td>\n",
       "    </tr>\n",
       "    <tr>\n",
       "      <th>4998</th>\n",
       "      <td>Dire Straits</td>\n",
       "      <td>Angel Of Mercy</td>\n",
       "      <td>Well there's a Peter Pan moon shepherd's delig...</td>\n",
       "    </tr>\n",
       "    <tr>\n",
       "      <th>4999</th>\n",
       "      <td>Used</td>\n",
       "      <td>Burning Down The House</td>\n",
       "      <td>Watch out,  \\r\\nYou might get what you're afte...</td>\n",
       "    </tr>\n",
       "  </tbody>\n",
       "</table>\n",
       "</div>"
      ],
      "text/plain": [
       "            artist                     song  \\\n",
       "4995   The Killers  Why Do I Keep Counting?   \n",
       "4996  Taylor Swift               Love Story   \n",
       "4997        Europe                  America   \n",
       "4998  Dire Straits           Angel Of Mercy   \n",
       "4999          Used   Burning Down The House   \n",
       "\n",
       "                                                   text  \n",
       "4995  There's a plane, and I am flying  \\r\\nThere's ...  \n",
       "4996  We were both young when I first saw you  \\r\\nI...  \n",
       "4997  You'd think by now I've learned to fake it  \\r...  \n",
       "4998  Well there's a Peter Pan moon shepherd's delig...  \n",
       "4999  Watch out,  \\r\\nYou might get what you're afte...  "
      ]
     },
     "execution_count": 300,
     "metadata": {},
     "output_type": "execute_result"
    }
   ],
   "source": [
    "df.tail(5)"
   ]
  },
  {
   "cell_type": "code",
   "execution_count": null,
   "id": "97004726-991d-4227-a74a-b97269e20734",
   "metadata": {},
   "outputs": [
    {
     "data": {
      "text/plain": [
       "\"You were the only thing I had  \\r\\nHow could a good love go so bad  \\r\\nSomehow I guess I should have known  \\r\\nThat you would leave me here alone  \\r\\n  \\r\\nThey say you found somebody new  \\r\\nBut that won't change my love for you  \\r\\nHow could you leave me on my own  \\r\\nYou know I hate to sleep alone  \\r\\n  \\r\\nRemember how it used to be  \\r\\nWhen you were here with me  \\r\\nYou were the only one I've known  \\r\\nAnd how I hate to sleep alone  \\r\\n  \\r\\nSomeday, some way, somebody new  \\r\\nWill make you feel the way that I do  \\r\\nBut I just wish that you'd come home  \\r\\nYou know that I hate to sleep alone  \\r\\n  \\r\\nBut I just wish that you'd come home  \\r\\nYou know that I hate to sleep alone\\r\\n\\r\\n\""
      ]
     },
     "execution_count": 302,
     "metadata": {},
     "output_type": "execute_result"
    }
   ],
   "source": [
    "df['text'][0]"
   ]
  },
  {
   "cell_type": "code",
   "execution_count": null,
   "id": "dd79b6e5-ae5f-410d-bd9a-ec19140fbf3e",
   "metadata": {},
   "outputs": [
    {
     "data": {
      "text/plain": [
       "(5000, 3)"
      ]
     },
     "execution_count": 304,
     "metadata": {},
     "output_type": "execute_result"
    }
   ],
   "source": [
    "df.shape"
   ]
  },
  {
   "cell_type": "markdown",
   "id": "94ebbe80-4af3-46ce-9d41-62db09987442",
   "metadata": {},
   "source": [
    "Text Cleaning/ Text Preprocessing"
   ]
  },
  {
   "cell_type": "code",
   "execution_count": null,
   "id": "621b7c4b-0d02-4a04-b874-0f357de267cd",
   "metadata": {},
   "outputs": [],
   "source": [
    "df['text'] = df['text'].str.lower().replace(r'^\\w\\s', '').replace(r'\\n', ' ', regex = True)"
   ]
  },
  {
   "cell_type": "code",
   "execution_count": null,
   "id": "09c3cfaa-9dac-43b4-bda4-3186ce451a3b",
   "metadata": {},
   "outputs": [
    {
     "name": "stderr",
     "output_type": "stream",
     "text": [
      "[nltk_data] Downloading package punkt to /Users/jayapriya/nltk_data...\n",
      "[nltk_data]   Package punkt is already up-to-date!\n"
     ]
    },
    {
     "data": {
      "text/plain": [
       "True"
      ]
     },
     "execution_count": 309,
     "metadata": {},
     "output_type": "execute_result"
    }
   ],
   "source": [
    "import nltk\n",
    "from nltk.stem.porter import PorterStemmer\n",
    "nltk.download('punkt')"
   ]
  },
  {
   "cell_type": "code",
   "execution_count": null,
   "id": "6e80d151-7e8b-4356-b8d5-05859ba2b7e6",
   "metadata": {},
   "outputs": [],
   "source": [
    "stemmer = PorterStemmer()"
   ]
  },
  {
   "cell_type": "code",
   "execution_count": null,
   "id": "6fbf0d82-a8d2-479f-974d-780a12d1d3b4",
   "metadata": {},
   "outputs": [],
   "source": [
    "def token(txt):\n",
    "    token = nltk.word_tokenize(txt)\n",
    "    a =[stemmer.stem(w) for w in token]\n",
    "    return \" \".join(a)"
   ]
  },
  {
   "cell_type": "code",
   "execution_count": null,
   "id": "06243cfb-c1fe-4f7c-9bc4-484ed98381f5",
   "metadata": {},
   "outputs": [
    {
     "data": {
      "text/plain": [
       "'you are beauti'"
      ]
     },
     "execution_count": 315,
     "metadata": {},
     "output_type": "execute_result"
    }
   ],
   "source": [
    "token(\"you are beautiful\")"
   ]
  },
  {
   "cell_type": "code",
   "execution_count": null,
   "id": "a04469cd-de30-4ee9-9dd9-a28ee6329126",
   "metadata": {},
   "outputs": [
    {
     "data": {
      "text/plain": [
       "0       you were the onli thing i had how could a good...\n",
       "1       i am iron man ha he lost hi mind ? can he see ...\n",
       "2       when will we be marri molli when will we be we...\n",
       "3       if i had a boat i 'd go out on the ocean and i...\n",
       "4       i wa young and healthi extrem wealthi i swung ...\n",
       "                              ...                        \n",
       "4995    there 's a plane , and i am fli there 's a mou...\n",
       "4996    we were both young when i first saw you i clos...\n",
       "4997    you 'd think by now i 've learn to fake it you...\n",
       "4998    well there 's a peter pan moon shepherd 's del...\n",
       "4999    watch out , you might get what you 're after ....\n",
       "Name: text, Length: 5000, dtype: object"
      ]
     },
     "execution_count": 317,
     "metadata": {},
     "output_type": "execute_result"
    }
   ],
   "source": [
    "df['text'].apply(lambda x: token(x))"
   ]
  },
  {
   "cell_type": "code",
   "execution_count": null,
   "id": "c11c86e0-09c3-4250-ad7b-17594a25a165",
   "metadata": {},
   "outputs": [],
   "source": [
    "from sklearn.feature_extraction.text import TfidfVectorizer\n",
    "from sklearn.metrics.pairwise import cosine_similarity"
   ]
  },
  {
   "cell_type": "code",
   "execution_count": null,
   "id": "7898e66c-a9d8-4548-a4fb-8e32810678db",
   "metadata": {},
   "outputs": [],
   "source": [
    "tfid = TfidfVectorizer(analyzer='word', stop_words='english')"
   ]
  },
  {
   "cell_type": "code",
   "execution_count": null,
   "id": "eb770901-5ecb-4973-8860-559aa3b72836",
   "metadata": {},
   "outputs": [],
   "source": [
    "matrix = tfid.fit_transform(df['text'])"
   ]
  },
  {
   "cell_type": "code",
   "execution_count": null,
   "id": "abe58a4e-2e9b-4276-9697-c6804e59b3e9",
   "metadata": {},
   "outputs": [],
   "source": [
    "similer = cosine_similarity(matrix)"
   ]
  },
  {
   "cell_type": "code",
   "execution_count": null,
   "id": "15a35ae2-6df1-4e37-938a-2519fa6a4b41",
   "metadata": {},
   "outputs": [
    {
     "data": {
      "text/plain": [
       "array([0.01221373, 1.        , 0.01057162, ..., 0.00563479, 0.0214025 ,\n",
       "       0.00746042])"
      ]
     },
     "execution_count": 331,
     "metadata": {},
     "output_type": "execute_result"
    }
   ],
   "source": [
    "similer[1]"
   ]
  },
  {
   "cell_type": "code",
   "execution_count": null,
   "id": "1513f4dc-67c7-4101-b12d-f8067b452932",
   "metadata": {},
   "outputs": [
    {
     "data": {
      "text/plain": [
       "4998"
      ]
     },
     "execution_count": 335,
     "metadata": {},
     "output_type": "execute_result"
    }
   ],
   "source": [
    "df[df['song']=='Angel Of Mercy'].index[0]"
   ]
  },
  {
   "cell_type": "markdown",
   "id": "ea683edc-f53b-43ad-b36d-94ea401e545c",
   "metadata": {},
   "source": [
    "Recommender Function"
   ]
  },
  {
   "cell_type": "code",
   "execution_count": null,
   "id": "aaf221f9-9310-47ea-ac33-5d3021f5e0da",
   "metadata": {},
   "outputs": [],
   "source": [
    "def recommender(song_name):\n",
    "    idx = df[df['song']== song_name].index[0]\n",
    "    distance = sorted(list(enumerate(similer[idx])), reverse=True, key = lambda x:x[1])\n",
    "    song = []\n",
    "    for s_id in distance[1:21]:\n",
    "        song.append(df.iloc[s_id[0]].song)\n",
    "    return song"
   ]
  },
  {
   "cell_type": "code",
   "execution_count": null,
   "id": "79fbf3cb-56e5-4111-ab94-ef1ac632763d",
   "metadata": {},
   "outputs": [
    {
     "data": {
      "text/plain": [
       "['Angel Down',\n",
       " 'Angel Of The Morning',\n",
       " 'Angel',\n",
       " 'Little Angel',\n",
       " 'Earth Boy',\n",
       " \"Sinner's Prayer\",\n",
       " 'Devil In Disguise',\n",
       " 'Have Mercy',\n",
       " 'Rest',\n",
       " \"A Little Heaven's Rubbing Off On Me\",\n",
       " 'Mercy',\n",
       " 'Angels Flying',\n",
       " \"Ali D'oro\",\n",
       " 'Lullabye',\n",
       " \"Angel's Lullaby\",\n",
       " \"Don't Look Back\",\n",
       " 'Shy Violet',\n",
       " 'Tonight Tonight',\n",
       " 'Angel Dust',\n",
       " 'Like An Angel Passing Through My Room']"
      ]
     },
     "execution_count": 344,
     "metadata": {},
     "output_type": "execute_result"
    }
   ],
   "source": [
    "recommender(\"Angel Of Mercy\")"
   ]
  },
  {
   "cell_type": "code",
   "execution_count": null,
   "id": "43c6db6b-e6f3-4cfd-9539-3b0070528aca",
   "metadata": {},
   "outputs": [],
   "source": [
    "import pickle"
   ]
  },
  {
   "cell_type": "code",
   "execution_count": null,
   "id": "50211567-8529-4811-8198-72cd35139772",
   "metadata": {},
   "outputs": [],
   "source": [
    "pickle.dump(similer, open(\"similarity\", \"wb\"))"
   ]
  },
  {
   "cell_type": "code",
   "execution_count": null,
   "id": "1a02c0ff-9c80-4e80-9674-11fb42acbe0b",
   "metadata": {},
   "outputs": [],
   "source": [
    "pickle.dump(df, open(\"df\", \"wb\"))"
   ]
  },
  {
   "cell_type": "code",
   "execution_count": null,
   "id": "53efc00f-900a-4573-b15f-3351294ec4f9",
   "metadata": {},
   "outputs": [],
   "source": []
  }
 ],
 "metadata": {
  "kernelspec": {
   "display_name": "Python 3 (ipykernel)",
   "language": "python",
   "name": "python3"
  },
  "language_info": {
   "codemirror_mode": {
    "name": "ipython",
    "version": 3
   },
   "file_extension": ".py",
   "mimetype": "text/x-python",
   "name": "python",
   "nbconvert_exporter": "python",
   "pygments_lexer": "ipython3",
   "version": "3.12.2"
  }
 },
 "nbformat": 4,
 "nbformat_minor": 5
}
